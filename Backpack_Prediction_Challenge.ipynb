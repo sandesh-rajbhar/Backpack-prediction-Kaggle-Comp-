{
  "nbformat": 4,
  "nbformat_minor": 0,
  "metadata": {
    "colab": {
      "provenance": [],
      "gpuType": "T4"
    },
    "kernelspec": {
      "name": "python3",
      "display_name": "Python 3"
    },
    "language_info": {
      "name": "python"
    },
    "accelerator": "GPU"
  },
  "cells": [
    {
      "cell_type": "markdown",
      "source": [
        "# Importing libraries & Dataset"
      ],
      "metadata": {
        "id": "ViGA_OiaEEN9"
      }
    },
    {
      "cell_type": "code",
      "execution_count": 3,
      "metadata": {
        "id": "394qzdqECQl3"
      },
      "outputs": [],
      "source": [
        "import pandas as pd\n",
        "import numpy as np\n",
        "import matplotlib.pyplot as plt\n",
        "import seaborn as sns\n",
        "from statsmodels.stats.outliers_influence import variance_inflation_factor\n",
        "from sklearn.preprocessing import StandardScaler\n",
        "from catboost import CatBoostRegressor, Pool\n",
        "from sklearn.model_selection import train_test_split\n",
        "from sklearn.metrics import mean_squared_error\n"
      ]
    },
    {
      "cell_type": "code",
      "source": [
        "test_data=pd.read_csv('/content/test.csv')\n",
        "train_data=pd.read_csv('/content/train.csv')\n",
        "training_extra_data=pd.read_csv('/content/training_extra.csv')\n",
        "submission = pd.read_csv('/content/sample_submission.csv')\n"
      ],
      "metadata": {
        "id": "aMarHVolEZPq"
      },
      "execution_count": 4,
      "outputs": []
    },
    {
      "cell_type": "code",
      "source": [
        "combined_train = pd.concat([train_data, training_extra_data], ignore_index=True)\n",
        "print(\"Combined training shape:\", combined_train.shape)"
      ],
      "metadata": {
        "colab": {
          "base_uri": "https://localhost:8080/"
        },
        "id": "nTursDuE4TrS",
        "outputId": "df614702-0c7a-4406-db6d-ea93843f179a"
      },
      "execution_count": 5,
      "outputs": [
        {
          "output_type": "stream",
          "name": "stdout",
          "text": [
            "Combined training shape: (3994318, 11)\n"
          ]
        }
      ]
    },
    {
      "cell_type": "code",
      "source": [
        "combined_train.head(10)"
      ],
      "metadata": {
        "colab": {
          "base_uri": "https://localhost:8080/",
          "height": 432
        },
        "id": "xOaivozjHdZk",
        "outputId": "7a719640-5098-4b96-d49b-28136f03a655"
      },
      "execution_count": 6,
      "outputs": [
        {
          "output_type": "execute_result",
          "data": {
            "text/plain": [
              "   id         Brand   Material    Size  Compartments Laptop Compartment  \\\n",
              "0   0      Jansport    Leather  Medium           7.0                Yes   \n",
              "1   1      Jansport     Canvas   Small          10.0                Yes   \n",
              "2   2  Under Armour    Leather   Small           2.0                Yes   \n",
              "3   3          Nike      Nylon   Small           8.0                Yes   \n",
              "4   4        Adidas     Canvas  Medium           1.0                Yes   \n",
              "5   5          Nike     Canvas  Medium          10.0                 No   \n",
              "6   6          Nike        NaN   Large           3.0                 No   \n",
              "7   7          Puma     Canvas   Small           1.0                Yes   \n",
              "8   8  Under Armour  Polyester  Medium           8.0                Yes   \n",
              "9   9  Under Armour      Nylon  Medium           2.0                Yes   \n",
              "\n",
              "  Waterproof      Style  Color  Weight Capacity (kg)      Price  \n",
              "0         No       Tote  Black             11.611723  112.15875  \n",
              "1        Yes  Messenger  Green             27.078537   68.88056  \n",
              "2         No  Messenger    Red             16.643760   39.17320  \n",
              "3         No  Messenger  Green             12.937220   80.60793  \n",
              "4        Yes  Messenger  Green             17.749338   86.02312  \n",
              "5        Yes        NaN  Black              7.241812   20.01553  \n",
              "6         No   Backpack  Green              6.828123   84.80500  \n",
              "7        Yes   Backpack   Blue             21.488864   27.15815  \n",
              "8         No       Tote   Gray             10.207780   25.98652  \n",
              "9        Yes  Messenger   Pink             15.895100   38.48741  "
            ],
            "text/html": [
              "\n",
              "  <div id=\"df-3c5596b6-2f6b-4f99-acb6-4081fd1d40f6\" class=\"colab-df-container\">\n",
              "    <div>\n",
              "<style scoped>\n",
              "    .dataframe tbody tr th:only-of-type {\n",
              "        vertical-align: middle;\n",
              "    }\n",
              "\n",
              "    .dataframe tbody tr th {\n",
              "        vertical-align: top;\n",
              "    }\n",
              "\n",
              "    .dataframe thead th {\n",
              "        text-align: right;\n",
              "    }\n",
              "</style>\n",
              "<table border=\"1\" class=\"dataframe\">\n",
              "  <thead>\n",
              "    <tr style=\"text-align: right;\">\n",
              "      <th></th>\n",
              "      <th>id</th>\n",
              "      <th>Brand</th>\n",
              "      <th>Material</th>\n",
              "      <th>Size</th>\n",
              "      <th>Compartments</th>\n",
              "      <th>Laptop Compartment</th>\n",
              "      <th>Waterproof</th>\n",
              "      <th>Style</th>\n",
              "      <th>Color</th>\n",
              "      <th>Weight Capacity (kg)</th>\n",
              "      <th>Price</th>\n",
              "    </tr>\n",
              "  </thead>\n",
              "  <tbody>\n",
              "    <tr>\n",
              "      <th>0</th>\n",
              "      <td>0</td>\n",
              "      <td>Jansport</td>\n",
              "      <td>Leather</td>\n",
              "      <td>Medium</td>\n",
              "      <td>7.0</td>\n",
              "      <td>Yes</td>\n",
              "      <td>No</td>\n",
              "      <td>Tote</td>\n",
              "      <td>Black</td>\n",
              "      <td>11.611723</td>\n",
              "      <td>112.15875</td>\n",
              "    </tr>\n",
              "    <tr>\n",
              "      <th>1</th>\n",
              "      <td>1</td>\n",
              "      <td>Jansport</td>\n",
              "      <td>Canvas</td>\n",
              "      <td>Small</td>\n",
              "      <td>10.0</td>\n",
              "      <td>Yes</td>\n",
              "      <td>Yes</td>\n",
              "      <td>Messenger</td>\n",
              "      <td>Green</td>\n",
              "      <td>27.078537</td>\n",
              "      <td>68.88056</td>\n",
              "    </tr>\n",
              "    <tr>\n",
              "      <th>2</th>\n",
              "      <td>2</td>\n",
              "      <td>Under Armour</td>\n",
              "      <td>Leather</td>\n",
              "      <td>Small</td>\n",
              "      <td>2.0</td>\n",
              "      <td>Yes</td>\n",
              "      <td>No</td>\n",
              "      <td>Messenger</td>\n",
              "      <td>Red</td>\n",
              "      <td>16.643760</td>\n",
              "      <td>39.17320</td>\n",
              "    </tr>\n",
              "    <tr>\n",
              "      <th>3</th>\n",
              "      <td>3</td>\n",
              "      <td>Nike</td>\n",
              "      <td>Nylon</td>\n",
              "      <td>Small</td>\n",
              "      <td>8.0</td>\n",
              "      <td>Yes</td>\n",
              "      <td>No</td>\n",
              "      <td>Messenger</td>\n",
              "      <td>Green</td>\n",
              "      <td>12.937220</td>\n",
              "      <td>80.60793</td>\n",
              "    </tr>\n",
              "    <tr>\n",
              "      <th>4</th>\n",
              "      <td>4</td>\n",
              "      <td>Adidas</td>\n",
              "      <td>Canvas</td>\n",
              "      <td>Medium</td>\n",
              "      <td>1.0</td>\n",
              "      <td>Yes</td>\n",
              "      <td>Yes</td>\n",
              "      <td>Messenger</td>\n",
              "      <td>Green</td>\n",
              "      <td>17.749338</td>\n",
              "      <td>86.02312</td>\n",
              "    </tr>\n",
              "    <tr>\n",
              "      <th>5</th>\n",
              "      <td>5</td>\n",
              "      <td>Nike</td>\n",
              "      <td>Canvas</td>\n",
              "      <td>Medium</td>\n",
              "      <td>10.0</td>\n",
              "      <td>No</td>\n",
              "      <td>Yes</td>\n",
              "      <td>NaN</td>\n",
              "      <td>Black</td>\n",
              "      <td>7.241812</td>\n",
              "      <td>20.01553</td>\n",
              "    </tr>\n",
              "    <tr>\n",
              "      <th>6</th>\n",
              "      <td>6</td>\n",
              "      <td>Nike</td>\n",
              "      <td>NaN</td>\n",
              "      <td>Large</td>\n",
              "      <td>3.0</td>\n",
              "      <td>No</td>\n",
              "      <td>No</td>\n",
              "      <td>Backpack</td>\n",
              "      <td>Green</td>\n",
              "      <td>6.828123</td>\n",
              "      <td>84.80500</td>\n",
              "    </tr>\n",
              "    <tr>\n",
              "      <th>7</th>\n",
              "      <td>7</td>\n",
              "      <td>Puma</td>\n",
              "      <td>Canvas</td>\n",
              "      <td>Small</td>\n",
              "      <td>1.0</td>\n",
              "      <td>Yes</td>\n",
              "      <td>Yes</td>\n",
              "      <td>Backpack</td>\n",
              "      <td>Blue</td>\n",
              "      <td>21.488864</td>\n",
              "      <td>27.15815</td>\n",
              "    </tr>\n",
              "    <tr>\n",
              "      <th>8</th>\n",
              "      <td>8</td>\n",
              "      <td>Under Armour</td>\n",
              "      <td>Polyester</td>\n",
              "      <td>Medium</td>\n",
              "      <td>8.0</td>\n",
              "      <td>Yes</td>\n",
              "      <td>No</td>\n",
              "      <td>Tote</td>\n",
              "      <td>Gray</td>\n",
              "      <td>10.207780</td>\n",
              "      <td>25.98652</td>\n",
              "    </tr>\n",
              "    <tr>\n",
              "      <th>9</th>\n",
              "      <td>9</td>\n",
              "      <td>Under Armour</td>\n",
              "      <td>Nylon</td>\n",
              "      <td>Medium</td>\n",
              "      <td>2.0</td>\n",
              "      <td>Yes</td>\n",
              "      <td>Yes</td>\n",
              "      <td>Messenger</td>\n",
              "      <td>Pink</td>\n",
              "      <td>15.895100</td>\n",
              "      <td>38.48741</td>\n",
              "    </tr>\n",
              "  </tbody>\n",
              "</table>\n",
              "</div>\n",
              "    <div class=\"colab-df-buttons\">\n",
              "\n",
              "  <div class=\"colab-df-container\">\n",
              "    <button class=\"colab-df-convert\" onclick=\"convertToInteractive('df-3c5596b6-2f6b-4f99-acb6-4081fd1d40f6')\"\n",
              "            title=\"Convert this dataframe to an interactive table.\"\n",
              "            style=\"display:none;\">\n",
              "\n",
              "  <svg xmlns=\"http://www.w3.org/2000/svg\" height=\"24px\" viewBox=\"0 -960 960 960\">\n",
              "    <path d=\"M120-120v-720h720v720H120Zm60-500h600v-160H180v160Zm220 220h160v-160H400v160Zm0 220h160v-160H400v160ZM180-400h160v-160H180v160Zm440 0h160v-160H620v160ZM180-180h160v-160H180v160Zm440 0h160v-160H620v160Z\"/>\n",
              "  </svg>\n",
              "    </button>\n",
              "\n",
              "  <style>\n",
              "    .colab-df-container {\n",
              "      display:flex;\n",
              "      gap: 12px;\n",
              "    }\n",
              "\n",
              "    .colab-df-convert {\n",
              "      background-color: #E8F0FE;\n",
              "      border: none;\n",
              "      border-radius: 50%;\n",
              "      cursor: pointer;\n",
              "      display: none;\n",
              "      fill: #1967D2;\n",
              "      height: 32px;\n",
              "      padding: 0 0 0 0;\n",
              "      width: 32px;\n",
              "    }\n",
              "\n",
              "    .colab-df-convert:hover {\n",
              "      background-color: #E2EBFA;\n",
              "      box-shadow: 0px 1px 2px rgba(60, 64, 67, 0.3), 0px 1px 3px 1px rgba(60, 64, 67, 0.15);\n",
              "      fill: #174EA6;\n",
              "    }\n",
              "\n",
              "    .colab-df-buttons div {\n",
              "      margin-bottom: 4px;\n",
              "    }\n",
              "\n",
              "    [theme=dark] .colab-df-convert {\n",
              "      background-color: #3B4455;\n",
              "      fill: #D2E3FC;\n",
              "    }\n",
              "\n",
              "    [theme=dark] .colab-df-convert:hover {\n",
              "      background-color: #434B5C;\n",
              "      box-shadow: 0px 1px 3px 1px rgba(0, 0, 0, 0.15);\n",
              "      filter: drop-shadow(0px 1px 2px rgba(0, 0, 0, 0.3));\n",
              "      fill: #FFFFFF;\n",
              "    }\n",
              "  </style>\n",
              "\n",
              "    <script>\n",
              "      const buttonEl =\n",
              "        document.querySelector('#df-3c5596b6-2f6b-4f99-acb6-4081fd1d40f6 button.colab-df-convert');\n",
              "      buttonEl.style.display =\n",
              "        google.colab.kernel.accessAllowed ? 'block' : 'none';\n",
              "\n",
              "      async function convertToInteractive(key) {\n",
              "        const element = document.querySelector('#df-3c5596b6-2f6b-4f99-acb6-4081fd1d40f6');\n",
              "        const dataTable =\n",
              "          await google.colab.kernel.invokeFunction('convertToInteractive',\n",
              "                                                    [key], {});\n",
              "        if (!dataTable) return;\n",
              "\n",
              "        const docLinkHtml = 'Like what you see? Visit the ' +\n",
              "          '<a target=\"_blank\" href=https://colab.research.google.com/notebooks/data_table.ipynb>data table notebook</a>'\n",
              "          + ' to learn more about interactive tables.';\n",
              "        element.innerHTML = '';\n",
              "        dataTable['output_type'] = 'display_data';\n",
              "        await google.colab.output.renderOutput(dataTable, element);\n",
              "        const docLink = document.createElement('div');\n",
              "        docLink.innerHTML = docLinkHtml;\n",
              "        element.appendChild(docLink);\n",
              "      }\n",
              "    </script>\n",
              "  </div>\n",
              "\n",
              "\n",
              "<div id=\"df-a8093416-6eb8-4351-be16-dc9416db1bde\">\n",
              "  <button class=\"colab-df-quickchart\" onclick=\"quickchart('df-a8093416-6eb8-4351-be16-dc9416db1bde')\"\n",
              "            title=\"Suggest charts\"\n",
              "            style=\"display:none;\">\n",
              "\n",
              "<svg xmlns=\"http://www.w3.org/2000/svg\" height=\"24px\"viewBox=\"0 0 24 24\"\n",
              "     width=\"24px\">\n",
              "    <g>\n",
              "        <path d=\"M19 3H5c-1.1 0-2 .9-2 2v14c0 1.1.9 2 2 2h14c1.1 0 2-.9 2-2V5c0-1.1-.9-2-2-2zM9 17H7v-7h2v7zm4 0h-2V7h2v10zm4 0h-2v-4h2v4z\"/>\n",
              "    </g>\n",
              "</svg>\n",
              "  </button>\n",
              "\n",
              "<style>\n",
              "  .colab-df-quickchart {\n",
              "      --bg-color: #E8F0FE;\n",
              "      --fill-color: #1967D2;\n",
              "      --hover-bg-color: #E2EBFA;\n",
              "      --hover-fill-color: #174EA6;\n",
              "      --disabled-fill-color: #AAA;\n",
              "      --disabled-bg-color: #DDD;\n",
              "  }\n",
              "\n",
              "  [theme=dark] .colab-df-quickchart {\n",
              "      --bg-color: #3B4455;\n",
              "      --fill-color: #D2E3FC;\n",
              "      --hover-bg-color: #434B5C;\n",
              "      --hover-fill-color: #FFFFFF;\n",
              "      --disabled-bg-color: #3B4455;\n",
              "      --disabled-fill-color: #666;\n",
              "  }\n",
              "\n",
              "  .colab-df-quickchart {\n",
              "    background-color: var(--bg-color);\n",
              "    border: none;\n",
              "    border-radius: 50%;\n",
              "    cursor: pointer;\n",
              "    display: none;\n",
              "    fill: var(--fill-color);\n",
              "    height: 32px;\n",
              "    padding: 0;\n",
              "    width: 32px;\n",
              "  }\n",
              "\n",
              "  .colab-df-quickchart:hover {\n",
              "    background-color: var(--hover-bg-color);\n",
              "    box-shadow: 0 1px 2px rgba(60, 64, 67, 0.3), 0 1px 3px 1px rgba(60, 64, 67, 0.15);\n",
              "    fill: var(--button-hover-fill-color);\n",
              "  }\n",
              "\n",
              "  .colab-df-quickchart-complete:disabled,\n",
              "  .colab-df-quickchart-complete:disabled:hover {\n",
              "    background-color: var(--disabled-bg-color);\n",
              "    fill: var(--disabled-fill-color);\n",
              "    box-shadow: none;\n",
              "  }\n",
              "\n",
              "  .colab-df-spinner {\n",
              "    border: 2px solid var(--fill-color);\n",
              "    border-color: transparent;\n",
              "    border-bottom-color: var(--fill-color);\n",
              "    animation:\n",
              "      spin 1s steps(1) infinite;\n",
              "  }\n",
              "\n",
              "  @keyframes spin {\n",
              "    0% {\n",
              "      border-color: transparent;\n",
              "      border-bottom-color: var(--fill-color);\n",
              "      border-left-color: var(--fill-color);\n",
              "    }\n",
              "    20% {\n",
              "      border-color: transparent;\n",
              "      border-left-color: var(--fill-color);\n",
              "      border-top-color: var(--fill-color);\n",
              "    }\n",
              "    30% {\n",
              "      border-color: transparent;\n",
              "      border-left-color: var(--fill-color);\n",
              "      border-top-color: var(--fill-color);\n",
              "      border-right-color: var(--fill-color);\n",
              "    }\n",
              "    40% {\n",
              "      border-color: transparent;\n",
              "      border-right-color: var(--fill-color);\n",
              "      border-top-color: var(--fill-color);\n",
              "    }\n",
              "    60% {\n",
              "      border-color: transparent;\n",
              "      border-right-color: var(--fill-color);\n",
              "    }\n",
              "    80% {\n",
              "      border-color: transparent;\n",
              "      border-right-color: var(--fill-color);\n",
              "      border-bottom-color: var(--fill-color);\n",
              "    }\n",
              "    90% {\n",
              "      border-color: transparent;\n",
              "      border-bottom-color: var(--fill-color);\n",
              "    }\n",
              "  }\n",
              "</style>\n",
              "\n",
              "  <script>\n",
              "    async function quickchart(key) {\n",
              "      const quickchartButtonEl =\n",
              "        document.querySelector('#' + key + ' button');\n",
              "      quickchartButtonEl.disabled = true;  // To prevent multiple clicks.\n",
              "      quickchartButtonEl.classList.add('colab-df-spinner');\n",
              "      try {\n",
              "        const charts = await google.colab.kernel.invokeFunction(\n",
              "            'suggestCharts', [key], {});\n",
              "      } catch (error) {\n",
              "        console.error('Error during call to suggestCharts:', error);\n",
              "      }\n",
              "      quickchartButtonEl.classList.remove('colab-df-spinner');\n",
              "      quickchartButtonEl.classList.add('colab-df-quickchart-complete');\n",
              "    }\n",
              "    (() => {\n",
              "      let quickchartButtonEl =\n",
              "        document.querySelector('#df-a8093416-6eb8-4351-be16-dc9416db1bde button');\n",
              "      quickchartButtonEl.style.display =\n",
              "        google.colab.kernel.accessAllowed ? 'block' : 'none';\n",
              "    })();\n",
              "  </script>\n",
              "</div>\n",
              "\n",
              "    </div>\n",
              "  </div>\n"
            ],
            "application/vnd.google.colaboratory.intrinsic+json": {
              "type": "dataframe",
              "variable_name": "combined_train"
            }
          },
          "metadata": {},
          "execution_count": 6
        }
      ]
    },
    {
      "cell_type": "code",
      "source": [
        "combined_train.tail(10)"
      ],
      "metadata": {
        "colab": {
          "base_uri": "https://localhost:8080/",
          "height": 415
        },
        "id": "p0cWh_zvHf01",
        "outputId": "ace1df9d-7180-4c67-cd60-f6277f228817"
      },
      "execution_count": 7,
      "outputs": [
        {
          "output_type": "execute_result",
          "data": {
            "text/plain": [
              "              id         Brand   Material    Size  Compartments  \\\n",
              "3994308  4194308        Adidas        NaN   Large           5.0   \n",
              "3994309  4194309        Adidas    Leather  Medium           9.0   \n",
              "3994310  4194310        Adidas      Nylon   Small          10.0   \n",
              "3994311  4194311          Puma  Polyester  Medium           4.0   \n",
              "3994312  4194312      Jansport  Polyester   Large           6.0   \n",
              "3994313  4194313          Nike     Canvas     NaN           3.0   \n",
              "3994314  4194314          Puma    Leather   Small          10.0   \n",
              "3994315  4194315      Jansport     Canvas   Large          10.0   \n",
              "3994316  4194316          Puma     Canvas     NaN           2.0   \n",
              "3994317  4194317  Under Armour  Polyester  Medium           2.0   \n",
              "\n",
              "        Laptop Compartment Waterproof      Style Color  Weight Capacity (kg)  \\\n",
              "3994308                Yes        Yes  Messenger  Gray             12.370109   \n",
              "3994309                 No        Yes   Backpack  Blue             12.790800   \n",
              "3994310                 No        NaN       Tote   Red             22.959725   \n",
              "3994311                Yes        Yes  Messenger  Pink             28.425845   \n",
              "3994312                Yes        Yes   Backpack   Red             16.641739   \n",
              "3994313                Yes        Yes  Messenger  Blue             28.098120   \n",
              "3994314                Yes        Yes       Tote  Blue             17.379531   \n",
              "3994315                 No         No   Backpack   Red             17.037708   \n",
              "3994316                 No         No   Backpack  Gray             28.783339   \n",
              "3994317                Yes         No   Backpack  Blue             23.076169   \n",
              "\n",
              "             Price  \n",
              "3994308   18.99152  \n",
              "3994309  103.92080  \n",
              "3994310  128.51754  \n",
              "3994311  107.18468  \n",
              "3994312   31.52978  \n",
              "3994313  104.74460  \n",
              "3994314  122.39043  \n",
              "3994315  148.18470  \n",
              "3994316   22.32269  \n",
              "3994317  107.61199  "
            ],
            "text/html": [
              "\n",
              "  <div id=\"df-cf3e49c8-9d37-4c7a-84e7-cf6cbff0798f\" class=\"colab-df-container\">\n",
              "    <div>\n",
              "<style scoped>\n",
              "    .dataframe tbody tr th:only-of-type {\n",
              "        vertical-align: middle;\n",
              "    }\n",
              "\n",
              "    .dataframe tbody tr th {\n",
              "        vertical-align: top;\n",
              "    }\n",
              "\n",
              "    .dataframe thead th {\n",
              "        text-align: right;\n",
              "    }\n",
              "</style>\n",
              "<table border=\"1\" class=\"dataframe\">\n",
              "  <thead>\n",
              "    <tr style=\"text-align: right;\">\n",
              "      <th></th>\n",
              "      <th>id</th>\n",
              "      <th>Brand</th>\n",
              "      <th>Material</th>\n",
              "      <th>Size</th>\n",
              "      <th>Compartments</th>\n",
              "      <th>Laptop Compartment</th>\n",
              "      <th>Waterproof</th>\n",
              "      <th>Style</th>\n",
              "      <th>Color</th>\n",
              "      <th>Weight Capacity (kg)</th>\n",
              "      <th>Price</th>\n",
              "    </tr>\n",
              "  </thead>\n",
              "  <tbody>\n",
              "    <tr>\n",
              "      <th>3994308</th>\n",
              "      <td>4194308</td>\n",
              "      <td>Adidas</td>\n",
              "      <td>NaN</td>\n",
              "      <td>Large</td>\n",
              "      <td>5.0</td>\n",
              "      <td>Yes</td>\n",
              "      <td>Yes</td>\n",
              "      <td>Messenger</td>\n",
              "      <td>Gray</td>\n",
              "      <td>12.370109</td>\n",
              "      <td>18.99152</td>\n",
              "    </tr>\n",
              "    <tr>\n",
              "      <th>3994309</th>\n",
              "      <td>4194309</td>\n",
              "      <td>Adidas</td>\n",
              "      <td>Leather</td>\n",
              "      <td>Medium</td>\n",
              "      <td>9.0</td>\n",
              "      <td>No</td>\n",
              "      <td>Yes</td>\n",
              "      <td>Backpack</td>\n",
              "      <td>Blue</td>\n",
              "      <td>12.790800</td>\n",
              "      <td>103.92080</td>\n",
              "    </tr>\n",
              "    <tr>\n",
              "      <th>3994310</th>\n",
              "      <td>4194310</td>\n",
              "      <td>Adidas</td>\n",
              "      <td>Nylon</td>\n",
              "      <td>Small</td>\n",
              "      <td>10.0</td>\n",
              "      <td>No</td>\n",
              "      <td>NaN</td>\n",
              "      <td>Tote</td>\n",
              "      <td>Red</td>\n",
              "      <td>22.959725</td>\n",
              "      <td>128.51754</td>\n",
              "    </tr>\n",
              "    <tr>\n",
              "      <th>3994311</th>\n",
              "      <td>4194311</td>\n",
              "      <td>Puma</td>\n",
              "      <td>Polyester</td>\n",
              "      <td>Medium</td>\n",
              "      <td>4.0</td>\n",
              "      <td>Yes</td>\n",
              "      <td>Yes</td>\n",
              "      <td>Messenger</td>\n",
              "      <td>Pink</td>\n",
              "      <td>28.425845</td>\n",
              "      <td>107.18468</td>\n",
              "    </tr>\n",
              "    <tr>\n",
              "      <th>3994312</th>\n",
              "      <td>4194312</td>\n",
              "      <td>Jansport</td>\n",
              "      <td>Polyester</td>\n",
              "      <td>Large</td>\n",
              "      <td>6.0</td>\n",
              "      <td>Yes</td>\n",
              "      <td>Yes</td>\n",
              "      <td>Backpack</td>\n",
              "      <td>Red</td>\n",
              "      <td>16.641739</td>\n",
              "      <td>31.52978</td>\n",
              "    </tr>\n",
              "    <tr>\n",
              "      <th>3994313</th>\n",
              "      <td>4194313</td>\n",
              "      <td>Nike</td>\n",
              "      <td>Canvas</td>\n",
              "      <td>NaN</td>\n",
              "      <td>3.0</td>\n",
              "      <td>Yes</td>\n",
              "      <td>Yes</td>\n",
              "      <td>Messenger</td>\n",
              "      <td>Blue</td>\n",
              "      <td>28.098120</td>\n",
              "      <td>104.74460</td>\n",
              "    </tr>\n",
              "    <tr>\n",
              "      <th>3994314</th>\n",
              "      <td>4194314</td>\n",
              "      <td>Puma</td>\n",
              "      <td>Leather</td>\n",
              "      <td>Small</td>\n",
              "      <td>10.0</td>\n",
              "      <td>Yes</td>\n",
              "      <td>Yes</td>\n",
              "      <td>Tote</td>\n",
              "      <td>Blue</td>\n",
              "      <td>17.379531</td>\n",
              "      <td>122.39043</td>\n",
              "    </tr>\n",
              "    <tr>\n",
              "      <th>3994315</th>\n",
              "      <td>4194315</td>\n",
              "      <td>Jansport</td>\n",
              "      <td>Canvas</td>\n",
              "      <td>Large</td>\n",
              "      <td>10.0</td>\n",
              "      <td>No</td>\n",
              "      <td>No</td>\n",
              "      <td>Backpack</td>\n",
              "      <td>Red</td>\n",
              "      <td>17.037708</td>\n",
              "      <td>148.18470</td>\n",
              "    </tr>\n",
              "    <tr>\n",
              "      <th>3994316</th>\n",
              "      <td>4194316</td>\n",
              "      <td>Puma</td>\n",
              "      <td>Canvas</td>\n",
              "      <td>NaN</td>\n",
              "      <td>2.0</td>\n",
              "      <td>No</td>\n",
              "      <td>No</td>\n",
              "      <td>Backpack</td>\n",
              "      <td>Gray</td>\n",
              "      <td>28.783339</td>\n",
              "      <td>22.32269</td>\n",
              "    </tr>\n",
              "    <tr>\n",
              "      <th>3994317</th>\n",
              "      <td>4194317</td>\n",
              "      <td>Under Armour</td>\n",
              "      <td>Polyester</td>\n",
              "      <td>Medium</td>\n",
              "      <td>2.0</td>\n",
              "      <td>Yes</td>\n",
              "      <td>No</td>\n",
              "      <td>Backpack</td>\n",
              "      <td>Blue</td>\n",
              "      <td>23.076169</td>\n",
              "      <td>107.61199</td>\n",
              "    </tr>\n",
              "  </tbody>\n",
              "</table>\n",
              "</div>\n",
              "    <div class=\"colab-df-buttons\">\n",
              "\n",
              "  <div class=\"colab-df-container\">\n",
              "    <button class=\"colab-df-convert\" onclick=\"convertToInteractive('df-cf3e49c8-9d37-4c7a-84e7-cf6cbff0798f')\"\n",
              "            title=\"Convert this dataframe to an interactive table.\"\n",
              "            style=\"display:none;\">\n",
              "\n",
              "  <svg xmlns=\"http://www.w3.org/2000/svg\" height=\"24px\" viewBox=\"0 -960 960 960\">\n",
              "    <path d=\"M120-120v-720h720v720H120Zm60-500h600v-160H180v160Zm220 220h160v-160H400v160Zm0 220h160v-160H400v160ZM180-400h160v-160H180v160Zm440 0h160v-160H620v160ZM180-180h160v-160H180v160Zm440 0h160v-160H620v160Z\"/>\n",
              "  </svg>\n",
              "    </button>\n",
              "\n",
              "  <style>\n",
              "    .colab-df-container {\n",
              "      display:flex;\n",
              "      gap: 12px;\n",
              "    }\n",
              "\n",
              "    .colab-df-convert {\n",
              "      background-color: #E8F0FE;\n",
              "      border: none;\n",
              "      border-radius: 50%;\n",
              "      cursor: pointer;\n",
              "      display: none;\n",
              "      fill: #1967D2;\n",
              "      height: 32px;\n",
              "      padding: 0 0 0 0;\n",
              "      width: 32px;\n",
              "    }\n",
              "\n",
              "    .colab-df-convert:hover {\n",
              "      background-color: #E2EBFA;\n",
              "      box-shadow: 0px 1px 2px rgba(60, 64, 67, 0.3), 0px 1px 3px 1px rgba(60, 64, 67, 0.15);\n",
              "      fill: #174EA6;\n",
              "    }\n",
              "\n",
              "    .colab-df-buttons div {\n",
              "      margin-bottom: 4px;\n",
              "    }\n",
              "\n",
              "    [theme=dark] .colab-df-convert {\n",
              "      background-color: #3B4455;\n",
              "      fill: #D2E3FC;\n",
              "    }\n",
              "\n",
              "    [theme=dark] .colab-df-convert:hover {\n",
              "      background-color: #434B5C;\n",
              "      box-shadow: 0px 1px 3px 1px rgba(0, 0, 0, 0.15);\n",
              "      filter: drop-shadow(0px 1px 2px rgba(0, 0, 0, 0.3));\n",
              "      fill: #FFFFFF;\n",
              "    }\n",
              "  </style>\n",
              "\n",
              "    <script>\n",
              "      const buttonEl =\n",
              "        document.querySelector('#df-cf3e49c8-9d37-4c7a-84e7-cf6cbff0798f button.colab-df-convert');\n",
              "      buttonEl.style.display =\n",
              "        google.colab.kernel.accessAllowed ? 'block' : 'none';\n",
              "\n",
              "      async function convertToInteractive(key) {\n",
              "        const element = document.querySelector('#df-cf3e49c8-9d37-4c7a-84e7-cf6cbff0798f');\n",
              "        const dataTable =\n",
              "          await google.colab.kernel.invokeFunction('convertToInteractive',\n",
              "                                                    [key], {});\n",
              "        if (!dataTable) return;\n",
              "\n",
              "        const docLinkHtml = 'Like what you see? Visit the ' +\n",
              "          '<a target=\"_blank\" href=https://colab.research.google.com/notebooks/data_table.ipynb>data table notebook</a>'\n",
              "          + ' to learn more about interactive tables.';\n",
              "        element.innerHTML = '';\n",
              "        dataTable['output_type'] = 'display_data';\n",
              "        await google.colab.output.renderOutput(dataTable, element);\n",
              "        const docLink = document.createElement('div');\n",
              "        docLink.innerHTML = docLinkHtml;\n",
              "        element.appendChild(docLink);\n",
              "      }\n",
              "    </script>\n",
              "  </div>\n",
              "\n",
              "\n",
              "<div id=\"df-997c3ead-a33a-418e-9c88-c89f72fb667b\">\n",
              "  <button class=\"colab-df-quickchart\" onclick=\"quickchart('df-997c3ead-a33a-418e-9c88-c89f72fb667b')\"\n",
              "            title=\"Suggest charts\"\n",
              "            style=\"display:none;\">\n",
              "\n",
              "<svg xmlns=\"http://www.w3.org/2000/svg\" height=\"24px\"viewBox=\"0 0 24 24\"\n",
              "     width=\"24px\">\n",
              "    <g>\n",
              "        <path d=\"M19 3H5c-1.1 0-2 .9-2 2v14c0 1.1.9 2 2 2h14c1.1 0 2-.9 2-2V5c0-1.1-.9-2-2-2zM9 17H7v-7h2v7zm4 0h-2V7h2v10zm4 0h-2v-4h2v4z\"/>\n",
              "    </g>\n",
              "</svg>\n",
              "  </button>\n",
              "\n",
              "<style>\n",
              "  .colab-df-quickchart {\n",
              "      --bg-color: #E8F0FE;\n",
              "      --fill-color: #1967D2;\n",
              "      --hover-bg-color: #E2EBFA;\n",
              "      --hover-fill-color: #174EA6;\n",
              "      --disabled-fill-color: #AAA;\n",
              "      --disabled-bg-color: #DDD;\n",
              "  }\n",
              "\n",
              "  [theme=dark] .colab-df-quickchart {\n",
              "      --bg-color: #3B4455;\n",
              "      --fill-color: #D2E3FC;\n",
              "      --hover-bg-color: #434B5C;\n",
              "      --hover-fill-color: #FFFFFF;\n",
              "      --disabled-bg-color: #3B4455;\n",
              "      --disabled-fill-color: #666;\n",
              "  }\n",
              "\n",
              "  .colab-df-quickchart {\n",
              "    background-color: var(--bg-color);\n",
              "    border: none;\n",
              "    border-radius: 50%;\n",
              "    cursor: pointer;\n",
              "    display: none;\n",
              "    fill: var(--fill-color);\n",
              "    height: 32px;\n",
              "    padding: 0;\n",
              "    width: 32px;\n",
              "  }\n",
              "\n",
              "  .colab-df-quickchart:hover {\n",
              "    background-color: var(--hover-bg-color);\n",
              "    box-shadow: 0 1px 2px rgba(60, 64, 67, 0.3), 0 1px 3px 1px rgba(60, 64, 67, 0.15);\n",
              "    fill: var(--button-hover-fill-color);\n",
              "  }\n",
              "\n",
              "  .colab-df-quickchart-complete:disabled,\n",
              "  .colab-df-quickchart-complete:disabled:hover {\n",
              "    background-color: var(--disabled-bg-color);\n",
              "    fill: var(--disabled-fill-color);\n",
              "    box-shadow: none;\n",
              "  }\n",
              "\n",
              "  .colab-df-spinner {\n",
              "    border: 2px solid var(--fill-color);\n",
              "    border-color: transparent;\n",
              "    border-bottom-color: var(--fill-color);\n",
              "    animation:\n",
              "      spin 1s steps(1) infinite;\n",
              "  }\n",
              "\n",
              "  @keyframes spin {\n",
              "    0% {\n",
              "      border-color: transparent;\n",
              "      border-bottom-color: var(--fill-color);\n",
              "      border-left-color: var(--fill-color);\n",
              "    }\n",
              "    20% {\n",
              "      border-color: transparent;\n",
              "      border-left-color: var(--fill-color);\n",
              "      border-top-color: var(--fill-color);\n",
              "    }\n",
              "    30% {\n",
              "      border-color: transparent;\n",
              "      border-left-color: var(--fill-color);\n",
              "      border-top-color: var(--fill-color);\n",
              "      border-right-color: var(--fill-color);\n",
              "    }\n",
              "    40% {\n",
              "      border-color: transparent;\n",
              "      border-right-color: var(--fill-color);\n",
              "      border-top-color: var(--fill-color);\n",
              "    }\n",
              "    60% {\n",
              "      border-color: transparent;\n",
              "      border-right-color: var(--fill-color);\n",
              "    }\n",
              "    80% {\n",
              "      border-color: transparent;\n",
              "      border-right-color: var(--fill-color);\n",
              "      border-bottom-color: var(--fill-color);\n",
              "    }\n",
              "    90% {\n",
              "      border-color: transparent;\n",
              "      border-bottom-color: var(--fill-color);\n",
              "    }\n",
              "  }\n",
              "</style>\n",
              "\n",
              "  <script>\n",
              "    async function quickchart(key) {\n",
              "      const quickchartButtonEl =\n",
              "        document.querySelector('#' + key + ' button');\n",
              "      quickchartButtonEl.disabled = true;  // To prevent multiple clicks.\n",
              "      quickchartButtonEl.classList.add('colab-df-spinner');\n",
              "      try {\n",
              "        const charts = await google.colab.kernel.invokeFunction(\n",
              "            'suggestCharts', [key], {});\n",
              "      } catch (error) {\n",
              "        console.error('Error during call to suggestCharts:', error);\n",
              "      }\n",
              "      quickchartButtonEl.classList.remove('colab-df-spinner');\n",
              "      quickchartButtonEl.classList.add('colab-df-quickchart-complete');\n",
              "    }\n",
              "    (() => {\n",
              "      let quickchartButtonEl =\n",
              "        document.querySelector('#df-997c3ead-a33a-418e-9c88-c89f72fb667b button');\n",
              "      quickchartButtonEl.style.display =\n",
              "        google.colab.kernel.accessAllowed ? 'block' : 'none';\n",
              "    })();\n",
              "  </script>\n",
              "</div>\n",
              "\n",
              "    </div>\n",
              "  </div>\n"
            ],
            "application/vnd.google.colaboratory.intrinsic+json": {
              "type": "dataframe",
              "summary": "{\n  \"name\": \"combined_train\",\n  \"rows\": 10,\n  \"fields\": [\n    {\n      \"column\": \"id\",\n      \"properties\": {\n        \"dtype\": \"number\",\n        \"std\": 3,\n        \"min\": 4194308,\n        \"max\": 4194317,\n        \"num_unique_values\": 10,\n        \"samples\": [\n          4194316,\n          4194309,\n          4194313\n        ],\n        \"semantic_type\": \"\",\n        \"description\": \"\"\n      }\n    },\n    {\n      \"column\": \"Brand\",\n      \"properties\": {\n        \"dtype\": \"string\",\n        \"num_unique_values\": 5,\n        \"samples\": [\n          \"Puma\",\n          \"Under Armour\",\n          \"Jansport\"\n        ],\n        \"semantic_type\": \"\",\n        \"description\": \"\"\n      }\n    },\n    {\n      \"column\": \"Material\",\n      \"properties\": {\n        \"dtype\": \"category\",\n        \"num_unique_values\": 4,\n        \"samples\": [\n          \"Nylon\",\n          \"Canvas\",\n          \"Leather\"\n        ],\n        \"semantic_type\": \"\",\n        \"description\": \"\"\n      }\n    },\n    {\n      \"column\": \"Size\",\n      \"properties\": {\n        \"dtype\": \"category\",\n        \"num_unique_values\": 3,\n        \"samples\": [\n          \"Large\",\n          \"Medium\",\n          \"Small\"\n        ],\n        \"semantic_type\": \"\",\n        \"description\": \"\"\n      }\n    },\n    {\n      \"column\": \"Compartments\",\n      \"properties\": {\n        \"dtype\": \"number\",\n        \"std\": 3.3813212407775355,\n        \"min\": 2.0,\n        \"max\": 10.0,\n        \"num_unique_values\": 7,\n        \"samples\": [\n          5.0,\n          9.0,\n          3.0\n        ],\n        \"semantic_type\": \"\",\n        \"description\": \"\"\n      }\n    },\n    {\n      \"column\": \"Laptop Compartment\",\n      \"properties\": {\n        \"dtype\": \"category\",\n        \"num_unique_values\": 2,\n        \"samples\": [\n          \"No\",\n          \"Yes\"\n        ],\n        \"semantic_type\": \"\",\n        \"description\": \"\"\n      }\n    },\n    {\n      \"column\": \"Waterproof\",\n      \"properties\": {\n        \"dtype\": \"category\",\n        \"num_unique_values\": 2,\n        \"samples\": [\n          \"No\",\n          \"Yes\"\n        ],\n        \"semantic_type\": \"\",\n        \"description\": \"\"\n      }\n    },\n    {\n      \"column\": \"Style\",\n      \"properties\": {\n        \"dtype\": \"category\",\n        \"num_unique_values\": 3,\n        \"samples\": [\n          \"Messenger\",\n          \"Backpack\"\n        ],\n        \"semantic_type\": \"\",\n        \"description\": \"\"\n      }\n    },\n    {\n      \"column\": \"Color\",\n      \"properties\": {\n        \"dtype\": \"category\",\n        \"num_unique_values\": 4,\n        \"samples\": [\n          \"Blue\",\n          \"Pink\"\n        ],\n        \"semantic_type\": \"\",\n        \"description\": \"\"\n      }\n    },\n    {\n      \"column\": \"Weight Capacity (kg)\",\n      \"properties\": {\n        \"dtype\": \"number\",\n        \"std\": 6.353756389858805,\n        \"min\": 12.37010891176852,\n        \"max\": 28.78333926687652,\n        \"num_unique_values\": 10,\n        \"samples\": [\n          28.78333926687652,\n          12.790800040629245\n        ],\n        \"semantic_type\": \"\",\n        \"description\": \"\"\n      }\n    },\n    {\n      \"column\": \"Price\",\n      \"properties\": {\n        \"dtype\": \"number\",\n        \"std\": 47.10975300841242,\n        \"min\": 18.99152,\n        \"max\": 148.1847,\n        \"num_unique_values\": 10,\n        \"samples\": [\n          22.32269,\n          103.9208\n        ],\n        \"semantic_type\": \"\",\n        \"description\": \"\"\n      }\n    }\n  ]\n}"
            }
          },
          "metadata": {},
          "execution_count": 7
        }
      ]
    },
    {
      "cell_type": "code",
      "source": [
        "combined_train.isnull().sum()"
      ],
      "metadata": {
        "colab": {
          "base_uri": "https://localhost:8080/",
          "height": 429
        },
        "id": "wGO3kXxkHUj0",
        "outputId": "22343f5d-1acb-4a93-f620-ee3c04f21574"
      },
      "execution_count": 8,
      "outputs": [
        {
          "output_type": "execute_result",
          "data": {
            "text/plain": [
              "id                           0\n",
              "Brand                   126758\n",
              "Material                110962\n",
              "Size                     87785\n",
              "Compartments                 0\n",
              "Laptop Compartment       98533\n",
              "Waterproof               94324\n",
              "Style                   104180\n",
              "Color                   133617\n",
              "Weight Capacity (kg)      1808\n",
              "Price                        0\n",
              "dtype: int64"
            ],
            "text/html": [
              "<div>\n",
              "<style scoped>\n",
              "    .dataframe tbody tr th:only-of-type {\n",
              "        vertical-align: middle;\n",
              "    }\n",
              "\n",
              "    .dataframe tbody tr th {\n",
              "        vertical-align: top;\n",
              "    }\n",
              "\n",
              "    .dataframe thead th {\n",
              "        text-align: right;\n",
              "    }\n",
              "</style>\n",
              "<table border=\"1\" class=\"dataframe\">\n",
              "  <thead>\n",
              "    <tr style=\"text-align: right;\">\n",
              "      <th></th>\n",
              "      <th>0</th>\n",
              "    </tr>\n",
              "  </thead>\n",
              "  <tbody>\n",
              "    <tr>\n",
              "      <th>id</th>\n",
              "      <td>0</td>\n",
              "    </tr>\n",
              "    <tr>\n",
              "      <th>Brand</th>\n",
              "      <td>126758</td>\n",
              "    </tr>\n",
              "    <tr>\n",
              "      <th>Material</th>\n",
              "      <td>110962</td>\n",
              "    </tr>\n",
              "    <tr>\n",
              "      <th>Size</th>\n",
              "      <td>87785</td>\n",
              "    </tr>\n",
              "    <tr>\n",
              "      <th>Compartments</th>\n",
              "      <td>0</td>\n",
              "    </tr>\n",
              "    <tr>\n",
              "      <th>Laptop Compartment</th>\n",
              "      <td>98533</td>\n",
              "    </tr>\n",
              "    <tr>\n",
              "      <th>Waterproof</th>\n",
              "      <td>94324</td>\n",
              "    </tr>\n",
              "    <tr>\n",
              "      <th>Style</th>\n",
              "      <td>104180</td>\n",
              "    </tr>\n",
              "    <tr>\n",
              "      <th>Color</th>\n",
              "      <td>133617</td>\n",
              "    </tr>\n",
              "    <tr>\n",
              "      <th>Weight Capacity (kg)</th>\n",
              "      <td>1808</td>\n",
              "    </tr>\n",
              "    <tr>\n",
              "      <th>Price</th>\n",
              "      <td>0</td>\n",
              "    </tr>\n",
              "  </tbody>\n",
              "</table>\n",
              "</div><br><label><b>dtype:</b> int64</label>"
            ]
          },
          "metadata": {},
          "execution_count": 8
        }
      ]
    },
    {
      "cell_type": "code",
      "source": [
        "combined_train.duplicated().sum()"
      ],
      "metadata": {
        "colab": {
          "base_uri": "https://localhost:8080/"
        },
        "id": "GPsfYWkXd_v5",
        "outputId": "4f8fdfeb-e7d2-4d31-bb6c-79b6c57ed6cd"
      },
      "execution_count": 9,
      "outputs": [
        {
          "output_type": "execute_result",
          "data": {
            "text/plain": [
              "0"
            ]
          },
          "metadata": {},
          "execution_count": 9
        }
      ]
    },
    {
      "cell_type": "code",
      "source": [
        "numeric_cols = combined_train.select_dtypes(include=['int64', 'float64']).columns.tolist()\n",
        "for col in numeric_cols:\n",
        "    plt.figure(figsize=(6,4))\n",
        "    sns.boxplot(y=train_data[col])\n",
        "    plt.title(f'Boxplot of {col}')\n",
        "    plt.show()"
      ],
      "metadata": {
        "colab": {
          "base_uri": "https://localhost:8080/",
          "height": 1000
        },
        "id": "SBUdFS7sWKfV",
        "outputId": "138c2fc0-e7d7-41f0-8b9e-ae4e2a2f162a"
      },
      "execution_count": 10,
      "outputs": [
        {
          "output_type": "display_data",
          "data": {
            "text/plain": [
              "<Figure size 600x400 with 1 Axes>"
            ],
            "image/png": "[encoded data removed]"
          },
          "metadata": {}
        },
        {
          "output_type": "display_data",
          "data": {
            "text/plain": [
              "<Figure size 600x400 with 1 Axes>"
            ],
            "image/png": "[encoded data removed]"
          },
          "metadata": {}
        },
        {
          "output_type": "display_data",
          "data": {
            "text/plain": [
              "<Figure size 600x400 with 1 Axes>"
            ],
            "image/png": "[encoded data removed]"
          },
          "metadata": {}
        },
        {
          "output_type": "display_data",
          "data": {
            "text/plain": [
              "<Figure size 600x400 with 1 Axes>"
            ],
            "image/png": "[encoded data removed]"
          },
          "metadata": {}
        }
      ]
    },
    {
      "cell_type": "code",
      "source": [
        "numeric_cols = combined_train.select_dtypes(include=['int64', 'float64']).columns.tolist()\n",
        "for col in numeric_cols:\n",
        "    plt.figure(figsize=(6, 4))\n",
        "    sns.histplot(train_data[col], kde=True)\n",
        "    plt.title(f'Distribution of {col}')\n",
        "    plt.show()\n",
        "    print(f\"Skewness of {col}: {train_data[col].skew()}\")\n"
      ],
      "metadata": {
        "colab": {
          "base_uri": "https://localhost:8080/",
          "height": 1000
        },
        "id": "BwKpyuYqfExg",
        "outputId": "564a49bf-a72d-4003-cb6a-c58b0966dbb6"
      },
      "execution_count": 11,
      "outputs": [
        {
          "output_type": "display_data",
          "data": {
            "text/plain": [
              "<Figure size 600x400 with 1 Axes>"
            ],
            "image/png": "[encoded data removed]"
          },
          "metadata": {}
        },
        {
          "output_type": "stream",
          "name": "stdout",
          "text": [
            "Skewness of id: 0.0\n"
          ]
        },
        {
          "output_type": "display_data",
          "data": {
            "text/plain": [
              "<Figure size 600x400 with 1 Axes>"
            ],
            "image/png": "[encoded data removed]"
          },
          "metadata": {}
        },
        {
          "output_type": "stream",
          "name": "stdout",
          "text": [
            "Skewness of Compartments: 0.029124529079775485\n"
          ]
        },
        {
          "output_type": "display_data",
          "data": {
            "text/plain": [
              "<Figure size 600x400 with 1 Axes>"
            ],
            "image/png": "[encoded data removed]"
          },
          "metadata": {}
        },
        {
          "output_type": "stream",
          "name": "stdout",
          "text": [
            "Skewness of Weight Capacity (kg): -0.06423900616005432\n"
          ]
        },
        {
          "output_type": "display_data",
          "data": {
            "text/plain": [
              "<Figure size 600x400 with 1 Axes>"
            ],
            "image/png": "[encoded data removed]"
          },
          "metadata": {}
        },
        {
          "output_type": "stream",
          "name": "stdout",
          "text": [
            "Skewness of Price: 0.036882755131099065\n"
          ]
        }
      ]
    },
    {
      "cell_type": "code",
      "source": [
        "X = combined_train.drop(\"Price\", axis=1)\n",
        "y = combined_train[\"Price\"]"
      ],
      "metadata": {
        "id": "E4_W7mBZTeqw"
      },
      "execution_count": 12,
      "outputs": []
    },
    {
      "cell_type": "code",
      "source": [
        "cat_features = [\"Brand\", \"Material\", \"Size\", \"Laptop Compartment\", \"Waterproof\", \"Style\", \"Color\"]"
      ],
      "metadata": {
        "id": "CpYoUB2jTkfV"
      },
      "execution_count": 13,
      "outputs": []
    },
    {
      "cell_type": "code",
      "source": [
        "for col in cat_features:\n",
        "    if col in X.columns:\n",
        "        X[col] = X[col].astype(str)\n",
        "    if col in test_data.columns:\n",
        "        test_data[col] = test_data[col].astype(str)"
      ],
      "metadata": {
        "id": "j1bUGQEfUgka"
      },
      "execution_count": 14,
      "outputs": []
    },
    {
      "cell_type": "code",
      "source": [
        "X_train, X_val, y_train, y_val = train_test_split(X, y, test_size=0.2, random_state=42)"
      ],
      "metadata": {
        "id": "OU6Jcq2vUkgN"
      },
      "execution_count": 15,
      "outputs": []
    },
    {
      "cell_type": "code",
      "source": [
        "train_pool = Pool(X_train, y_train, cat_features=cat_features)\n",
        "val_pool = Pool(X_val, y_val, cat_features=cat_features)"
      ],
      "metadata": {
        "id": "8eIL-XpDTolg"
      },
      "execution_count": 16,
      "outputs": []
    },
    {
      "cell_type": "code",
      "source": [
        "model = CatBoostRegressor(\n",
        "    iterations=1500,           # Enough iterations to capture complex patterns in a large dataset\n",
        "    learning_rate=0.02,        # A low learning rate for stable, gradual learning\n",
        "    depth=6,                   # Moderate depth to balance model complexity and overfitting risk\n",
        "    l2_leaf_reg=10,            # Regularization to help control overfitting\n",
        "    bagging_temperature=1,     # Introduces randomness for better generalization\n",
        "    loss_function='RMSE',\n",
        "    random_seed=42,\n",
        "    task_type='GPU',           # Enable GPU acceleration\n",
        "    devices='0',               # Use GPU device 0\n",
        "    verbose=100\n",
        ")\n"
      ],
      "metadata": {
        "id": "oEInAaPePpGS"
      },
      "execution_count": 19,
      "outputs": []
    },
    {
      "cell_type": "code",
      "source": [
        "model.fit(train_pool, eval_set=val_pool, early_stopping_rounds=50)"
      ],
      "metadata": {
        "colab": {
          "base_uri": "https://localhost:8080/"
        },
        "id": "oR1tcptERy4X",
        "outputId": "25171f36-165d-4488-c8e6-6d14ea43b1f8"
      },
      "execution_count": 20,
      "outputs": [
        {
          "output_type": "stream",
          "name": "stdout",
          "text": [
            "0:\tlearn: 38.9433324\ttest: 38.9146056\tbest: 38.9146056 (0)\ttotal: 350ms\tremaining: 8m 44s\n",
            "100:\tlearn: 38.9052825\ttest: 38.8780114\tbest: 38.8780114 (100)\ttotal: 35.9s\tremaining: 8m 16s\n",
            "200:\tlearn: 38.8951335\ttest: 38.8690775\tbest: 38.8690775 (200)\ttotal: 1m 10s\tremaining: 7m 32s\n",
            "300:\tlearn: 38.8901506\ttest: 38.8650972\tbest: 38.8650972 (300)\ttotal: 1m 44s\tremaining: 6m 54s\n",
            "400:\tlearn: 38.8870234\ttest: 38.8628689\tbest: 38.8628689 (400)\ttotal: 2m 17s\tremaining: 6m 17s\n",
            "500:\tlearn: 38.8847077\ttest: 38.8614176\tbest: 38.8614176 (500)\ttotal: 2m 51s\tremaining: 5m 42s\n",
            "600:\tlearn: 38.8828184\ttest: 38.8602631\tbest: 38.8602631 (600)\ttotal: 3m 25s\tremaining: 5m 8s\n",
            "700:\tlearn: 38.8808383\ttest: 38.8590921\tbest: 38.8590921 (700)\ttotal: 4m\tremaining: 4m 33s\n",
            "800:\tlearn: 38.8792723\ttest: 38.8583479\tbest: 38.8583417 (791)\ttotal: 4m 34s\tremaining: 3m 59s\n",
            "900:\tlearn: 38.8775537\ttest: 38.8575252\tbest: 38.8575108 (894)\ttotal: 5m 8s\tremaining: 3m 25s\n",
            "1000:\tlearn: 38.8760123\ttest: 38.8568923\tbest: 38.8568902 (999)\ttotal: 5m 42s\tremaining: 2m 50s\n",
            "1100:\tlearn: 38.8746440\ttest: 38.8564140\tbest: 38.8564140 (1100)\ttotal: 6m 15s\tremaining: 2m 16s\n",
            "1200:\tlearn: 38.8733312\ttest: 38.8560841\tbest: 38.8560841 (1198)\ttotal: 6m 49s\tremaining: 1m 41s\n",
            "1300:\tlearn: 38.8720740\ttest: 38.8557418\tbest: 38.8557418 (1300)\ttotal: 7m 22s\tremaining: 1m 7s\n",
            "1400:\tlearn: 38.8708951\ttest: 38.8554779\tbest: 38.8554779 (1400)\ttotal: 7m 57s\tremaining: 33.7s\n",
            "1499:\tlearn: 38.8697141\ttest: 38.8551769\tbest: 38.8551624 (1498)\ttotal: 8m 31s\tremaining: 0us\n",
            "bestTest = 38.85516243\n",
            "bestIteration = 1498\n",
            "Shrink model to first 1499 iterations.\n"
          ]
        },
        {
          "output_type": "execute_result",
          "data": {
            "text/plain": [
              "<catboost.core.CatBoostRegressor at 0x7c6283529890>"
            ]
          },
          "metadata": {},
          "execution_count": 20
        }
      ]
    },
    {
      "cell_type": "code",
      "source": [
        "val_pred = model.predict(X_val)\n",
        "# Calculate MSE then take the square root for RMSE\n",
        "mse = mean_squared_error(y_val, val_pred)\n",
        "rmse = np.sqrt(mse)\n",
        "print(\"Validation RMSE:\", rmse)"
      ],
      "metadata": {
        "colab": {
          "base_uri": "https://localhost:8080/"
        },
        "id": "4njUMvTNSL2K",
        "outputId": "cc72237e-1ef2-46e6-f01a-13ffdf8ff680"
      },
      "execution_count": 26,
      "outputs": [
        {
          "output_type": "stream",
          "name": "stdout",
          "text": [
            "Validation RMSE: 38.85518730035309\n"
          ]
        }
      ]
    },
    {
      "cell_type": "code",
      "source": [
        "avg_price = train_data[\"Price\"].mean()\n",
        "print(\"Average Price:\", avg_price)\n"
      ],
      "metadata": {
        "colab": {
          "base_uri": "https://localhost:8080/"
        },
        "id": "sg-WDKW-bU4S",
        "outputId": "137be45f-aa6e-4c42-8af0-1c86d8eecef4"
      },
      "execution_count": 27,
      "outputs": [
        {
          "output_type": "stream",
          "name": "stdout",
          "text": [
            "Average Price: 81.41110683033334\n"
          ]
        }
      ]
    },
    {
      "cell_type": "code",
      "source": [
        "test_pred = model.predict(test_data)"
      ],
      "metadata": {
        "id": "ReFntWaST8cB"
      },
      "execution_count": 28,
      "outputs": []
    },
    {
      "cell_type": "code",
      "source": [
        "submission[\"Price\"] = test_pred\n",
        "submission.to_csv('/content/Backpack Prediction Challenge_submission.csv', index=False)"
      ],
      "metadata": {
        "id": "mEv906KSUAS0"
      },
      "execution_count": 30,
      "outputs": []
    }
  ]
}